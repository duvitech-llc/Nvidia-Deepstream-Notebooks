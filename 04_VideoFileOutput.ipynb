{
 "cells": [
  {
   "cell_type": "markdown",
   "metadata": {},
   "source": [
    "<center><img src=\"images/DLI Header.png\" alt=\"Header\" width=\"400\"></center>"
   ]
  },
  {
   "cell_type": "markdown",
   "metadata": {},
   "source": [
    "# 4.0  Video File Output\n",
    "It may be desirable to save an annotated file for later playback and analysis. \n",
    "\n",
    "Just as there are pipeline elements that decode and parse a file read from `filesrc` into a stream, the pattern can be reversed to save a video to file using `filesink`.  In this notebook, you'll learn how to add the elements required to encode, parse, multiplex, and save a video to file."
   ]
  },
  {
   "cell_type": "markdown",
   "metadata": {},
   "source": [
    "<img src=\"images/04_example_mp4_out.png\" alt=\"pipe to file\">"
   ]
  },
  {
   "cell_type": "markdown",
   "metadata": {},
   "source": [
    "4.1 **[Build a Pipeline that Outputs to a File](#04_overview)**<br>\n",
    "&nbsp; &nbsp; &nbsp; 4.1.1 [Practice Application `deepstream-test3-mp4_out`](#04_test3)<br>\n",
    "&nbsp; &nbsp; &nbsp; 4.1.2 [Exercise: Build and Run the Base Application](#04_ex_base)<br>\n",
    "4.2 **[Create an Annotated Video File](#04_elements)**<br>\n",
    "&nbsp; &nbsp; &nbsp; 4.2.1 [Exercise: Output Annotated Video to File](#04_ex_change)<br>\n",
    "4.3 **[Put It All Together](#04_final)**<br>\n",
    "&nbsp; &nbsp; &nbsp; 4.3.1 [Exercise: Change the File Type](#04_ex_challenge)<br>"
   ]
  },
  {
   "cell_type": "markdown",
   "metadata": {},
   "source": [
    "<a name=\"04_overview\"></a>\n",
    "# 4.1 Build a Pipeline that Outputs to a File\n",
    "In all of the RTSP output apps used so far in this course, the pipeline ended with the following sequence of plugin elements:\n",
    "- `Gst-nvv4l2h264enc` - encodes RAW data in I420 format to H264\n",
    "- `GstRtpH264Pay` - converts H264 encoded Payload to RTP packets (RFC 3984)\n",
    "- `GstUDPSink` - sends UDP packets to the network. When paired with RTP payloader (`Gst-rtph264pay`) it can implement RTP streaming\n",
    "\n",
    "To save a video stream to a file, we still need the H264 encoding plugin, `Gst-nvv4l2h264enc`, but not the `GstRtp264Pay` plugin for RTSP, nor the `GstUDPSink` since the stream won't be transmitted over the network.  Instead, we need to **parse** the encoded stream and **multiplex (aka \"mux\")** it into a convenient container, such as a QuickTime `.mp4` file.  The `filesink` element will will become the sink.<br>\n",
    "In summary, saving our rendered streams to file requires the pipeline after rendering to be:\n",
    "- `Gst-nvv4l2h264enc` - encodes RAW data in I420 format to H264\n",
    "- `GstH264Parse` - parses the encoded H264 stream\n",
    "- `GstQTMux` -  merges streams (audio and video) into QuickTime(.mov) files\n",
    "- `GstFileSink` - writes incoming data to a file in the local file system"
   ]
  },
  {
   "cell_type": "markdown",
   "metadata": {},
   "source": [
    "<a name=\"04_test3\"></a>\n",
    "## 4.1.1 Practice Application `deepstream-test3-mp4_out`\n",
    "A comparison of the `deepstream-test3-rstp_out` C code and the C code for an equivalent application that writes to file, `deepstream-test-mp4_out`,  reveals the following differences *(Note: the sample snippets below are abbreviated code for clarity purposes)*:\n",
    "\n",
    "RTSP streaming [deepstream-test3-rstp_out](../deepstream_sdk_v4.0.2_jetson/sources/apps/dli_apps/deepstream-test3-rtsp_out/deepstream_test3_app.c) code:\n",
    "```c\n",
    "...\n",
    "\n",
    "  GstElement *pipeline = NULL, *streammux = NULL, *sink = NULL, *pgie = NULL,\n",
    "      *nvvidconv = NULL, *nvosd = NULL, *tiler = NULL, *encoder = NULL, \n",
    "      *rtppay = NULL, *transform = NULL, *cap_filter = NULL;\n",
    "\n",
    "...\n",
    "\n",
    "  encoder = gst_element_factory_make (\"nvv4l2h264enc\", \"h264-encoder\");\n",
    "  rtppay = gst_element_factory_make (\"rtph264pay\", \"rtppay-h264\");\n",
    "\n",
    "  g_object_set (G_OBJECT (encoder), \"bitrate\", 4000000, NULL);\n",
    "\n",
    "#ifdef PLATFORM_TEGRA\n",
    "  g_object_set (G_OBJECT (encoder), \"preset-level\", 1, NULL);\n",
    "  g_object_set (G_OBJECT (encoder), \"insert-sps-pps\", 1, NULL);\n",
    "  g_object_set (G_OBJECT (encoder), \"bufapi-version\", 1, NULL);\n",
    "#endif\n",
    "  sink = gst_element_factory_make (\"udpsink\", \"udpsink\");\n",
    "\n",
    "  g_object_set (G_OBJECT (sink), \"host\", \"224.224.255.255\", \"port\",\n",
    "      5400, \"async\", FALSE, \"sync\", 0, NULL);\n",
    "\n",
    "...\n",
    "    \n",
    "  /* Set up the pipeline */\n",
    "  /* we add all elements into the pipeline */\n",
    "  gst_bin_add_many (GST_BIN (pipeline), pgie, tiler, nvvidconv, nvosd,\n",
    "      transform, cap_filter, encoder, rtppay, sink, NULL);\n",
    "  /* we link the elements together\n",
    "   * nvstreammux -> nvinfer -> nvtiler -> nvvidconv -> nvosd -> video-renderer */\n",
    "  if (!gst_element_link_many (streammux, pgie, tiler, nvvidconv, nvosd,\n",
    "          transform, cap_filter, encoder, rtppay, sink, NULL)) {\n",
    "    g_printerr (\"Elements could not be linked. Exiting.\\n\");\n",
    "    return -1;\n",
    "  }\n",
    "\n",
    "...\n",
    "```\n",
    "\n",
    "File output [deepstream-test3-mp4_out](../deepstream_sdk_v4.0.2_jetson/sources/apps/dli_apps/deepstream-test3-mp4_out/deepstream_test3_app.c) code:\n",
    "```c\n",
    "...\n",
    "    \n",
    "  GstElement *pipeline = NULL, *streammux = NULL, *sink = NULL, *pgie = NULL,\n",
    "      *nvvidconv = NULL, *nvosd = NULL, *tiler = NULL, *encoder = NULL, \n",
    "      *codecparse = NULL, *mux = NULL, *transform = NULL, *cap_filter = NULL;\n",
    "\n",
    "...\n",
    "    \n",
    "  encoder = gst_element_factory_make (\"nvv4l2h264enc\", \"h264-encoder\");\n",
    "  //encoder = gst_element_factory_make (\"avenc_mpeg4\", \"h264-encoder\");\n",
    "\n",
    "  codecparse = gst_element_factory_make (\"h264parse\", \"h264-parser\");\n",
    "  //codecparse = gst_element_factory_make (\"mpeg4videoparse\", \"mpeg4-parser\");\n",
    "  mux = gst_element_factory_make (\"qtmux\", \"mux\");\n",
    "\n",
    "  sink = gst_element_factory_make (\"filesink\", \"filesink\");\n",
    "  g_object_set (G_OBJECT (sink), \"location\", \"/home/dlinano/out.mp4\", NULL);\n",
    "\n",
    "  g_object_set (G_OBJECT (encoder), \"bitrate\", 4000000, NULL);\n",
    "  g_object_set (G_OBJECT (encoder), \"bufapi-version\", 1, NULL);\n",
    "\n",
    "...\n",
    "    \n",
    "  /* Set up the pipeline */\n",
    "  /* we add all elements into the pipeline */\n",
    "  gst_bin_add_many (GST_BIN (pipeline), pgie, tiler, nvvidconv, nvosd,\n",
    "      transform, cap_filter, encoder, codecparse, mux, sink, NULL);\n",
    "  /* we link the elements together\n",
    "   * nvstreammux -> nvinfer -> nvtiler -> nvvidconv -> nvosd -> video-renderer */\n",
    "  if (!gst_element_link_many (streammux, pgie, tiler, nvvidconv, nvosd,\n",
    "          transform, cap_filter, encoder, codecparse, mux, sink, NULL)) {\n",
    "    g_printerr (\"Elements could not be linked. Exiting.\\n\");\n",
    "    return -1;\n",
    "  }\n",
    "\n",
    "...\n",
    "```\n",
    "\n",
    "Note the basic differences:\n",
    "* `rtppay` has been removed (`rtph264pay` element) \n",
    "* `codecparse` and `mux` has been added (`h264parse` and `qtmux` elements)\n",
    "* `sink` has been changed (from a `udspsink` element to a `filesink` element)\n",
    "   * no `host` property is needed\n",
    "   * `location` property is set for `filesink`"
   ]
  },
  {
   "cell_type": "markdown",
   "metadata": {},
   "source": [
    "<a name=\"04_ex_base\"></a>\n",
    "## 4.1.2 Exercise: Build and Run the Base Application\n",
    "Execute the following cells to build the sample app.  DeepStream will save the result to `/home/dlinano/out.mp4` on the Jetson Nano.<br>\n",
    "Download `out.mp4` by right clicking it in the JupyterLab file browser, then selecting \"Download\". Now play it on your machine."
   ]
  },
  {
   "cell_type": "code",
   "execution_count": null,
   "metadata": {},
   "outputs": [],
   "source": [
    "# Build the test3 mp4 file output app\n",
    "%cd /home/dlinano/deepstream_sdk_v4.0.2_jetson/sources/apps/dli_apps/deepstream-test3-mp4_out/\n",
    "!make clean\n",
    "!make"
   ]
  },
  {
   "cell_type": "code",
   "execution_count": null,
   "metadata": {},
   "outputs": [],
   "source": [
    "# Run the app\n",
    "%cd /home/dlinano/deepstream_sdk_v4.0.2_jetson/sources/apps/dli_apps/deepstream-test3-mp4_out/\n",
    "!./deepstream-test3-app \\\n",
    "file:///home/dlinano/deepstream_sdk_v4.0.2_jetson/samples/streams/sample_720p.h264 \\\n",
    "file:///home/dlinano/deepstream_sdk_v4.0.2_jetson/samples/streams/sample_720p.mp4"
   ]
  },
  {
   "cell_type": "markdown",
   "metadata": {},
   "source": [
    "<a name=\"04_elements\"></a>\n",
    "# 4.2 Create an Annotated Video File\n",
    "Since all of the RSTP samples you've worked with so far include the same elements after rendering, you'll be able to modify any of them to output to file in the same way as `deepstream-test3-mp4_out`.\n"
   ]
  },
  {
   "cell_type": "markdown",
   "metadata": {},
   "source": [
    "<a name=\"04_ex_change\"></a>\n",
    "## 4.2.1 Exercise: Output Annotated Video to File\n",
    "Create a new app based on `deepstream-test1-rtsp_out` that saves the annotated output to a file at `/home/dlinano/my_test1_out.mp4`"
   ]
  },
  {
   "cell_type": "code",
   "execution_count": null,
   "metadata": {},
   "outputs": [],
   "source": [
    "# Create a new app located at /home/dlinano/deepstream_sdk_v4.0.2_jetson/sources/apps/\n",
    "#      my_apps/dst4-test1-filesink\n",
    "#      based on deepstream-test1-rstp_out\n",
    "%cd /home/dlinano/deepstream_sdk_v4.0.2_jetson/sources/apps\n",
    "!mkdir -p my_apps/dst4-test1-filesink\n",
    "!cp -rfv dli_apps/deepstream-test1-rtsp_out/* my_apps/dst4-test1-filesink"
   ]
  },
  {
   "cell_type": "markdown",
   "metadata": {},
   "source": [
    "Modify the [deepstream_test1_app.c](../deepstream_sdk_v4.0.2_jetson/sources/apps/my_apps/dst4-test1-filesink/deepstream_test1_app.c) with the following steps (refer to the code differences highlighted in the previous section for details):\n",
    "1. Declare `codecparse` and `mux` as GstElement objects\n",
    "2. Remove the `rtph264pay` element.\n",
    "3. Add `h264parse` and `qtmux` elements (assigned to `codecparse` and `mux`).\n",
    "4. Change `sink` from a `udspsink` element to a `filesink` element.\n",
    "   - Remove the \"host\" property that is no longer applicable.\n",
    "   - Set the \"location\" property.\n",
    "5. Change the `gst_bin_add_many()` and `gst_element_link_many()` methods so that the correct elements are included and linked."
   ]
  },
  {
   "cell_type": "code",
   "execution_count": null,
   "metadata": {},
   "outputs": [],
   "source": [
    "# Build the app\n",
    "%cd /home/dlinano/deepstream_sdk_v4.0.2_jetson/sources/apps/my_apps/dst4-test1-filesink\n",
    "!make clean\n",
    "!make"
   ]
  },
  {
   "cell_type": "code",
   "execution_count": null,
   "metadata": {},
   "outputs": [],
   "source": [
    "# Run the app\n",
    "%cd /home/dlinano/deepstream_sdk_v4.0.2_jetson/sources/apps/my_apps/dst4-test1-filesink\n",
    "!./deepstream-test1-app /home/dlinano/deepstream_sdk_v4.0.2_jetson/samples/streams/sample_720p.h264"
   ]
  },
  {
   "cell_type": "markdown",
   "metadata": {},
   "source": [
    "#### How did you do?\n",
    "If you see something like this image when you play your saved file, you did it!  If not, keep trying, or take a peek at the solution code in the solutions directory.  <br>"
   ]
  },
  {
   "cell_type": "markdown",
   "metadata": {},
   "source": [
    "<img src=\"images/04_test1_mp4_out.png\" alt=\"file output test1\">"
   ]
  },
  {
   "cell_type": "markdown",
   "metadata": {},
   "source": [
    "<a name=\"04_final\"></a>\n",
    "# 4.3 Put It All Together\n",
    "Try it again with a few small enhancements, starting with the recommended app below, or one of your own from earlier in the course.  "
   ]
  },
  {
   "cell_type": "markdown",
   "metadata": {},
   "source": [
    "<a name=\"04_ex_challenge\"></a>\n",
    "## 4.3.1 Exercise: Change the File Type\n",
    "Add the following enhancements:\n",
    "* Remove the unnecessary call to the RTSP streamer\n",
    "* Save to a different file type such as `.avi` using the `avimux` element.\n",
    "* Provide the saved filename as a command line argument"
   ]
  },
  {
   "cell_type": "code",
   "execution_count": null,
   "metadata": {},
   "outputs": [],
   "source": [
    "# Create a new app located at /home/dlinano/deepstream_sdk_v4.0.2_jetson/sources/apps/\n",
    "#      my_apps/dst4-test2-filesink\n",
    "#      based on the original reference app deepstream-test2-rtsp_out"
   ]
  },
  {
   "cell_type": "code",
   "execution_count": null,
   "metadata": {},
   "outputs": [],
   "source": [
    "# TODO\n",
    "# Add the encoder, parser, mux, and filesink to the C code\n",
    "# Build the app"
   ]
  },
  {
   "cell_type": "code",
   "execution_count": null,
   "metadata": {},
   "outputs": [],
   "source": [
    "# TODO\n",
    "# Run the app"
   ]
  },
  {
   "cell_type": "markdown",
   "metadata": {},
   "source": [
    "#### How did you do?\n",
    "If you see something like this image when you play your saved file, you've mastered saving your annotated videos to a file!  If not, keep trying, or take a peek at the solution code in the solutions directory.  <br>"
   ]
  },
  {
   "cell_type": "markdown",
   "metadata": {},
   "source": [
    "<img src=\"images/02_3sgie.png\" alt=\"file output test2\">"
   ]
  },
  {
   "cell_type": "markdown",
   "metadata": {},
   "source": [
    "<h2 style=\"color:green;\">Congratulations!</h2>\n",
    "\n",
    "You modified a streaming DeepStream pipeline to instead save a video to a file.<br>\n",
    "Move on to [5.0 Using Different Networks (Optional)](./05_DiffNetworks.ipynb)\n"
   ]
  },
  {
   "cell_type": "markdown",
   "metadata": {},
   "source": [
    "<center><img src=\"images/DLI Header.png\" alt=\"Header\" width=\"400\"></center>"
   ]
  }
 ],
 "metadata": {
  "kernelspec": {
   "display_name": "Python 3",
   "language": "python",
   "name": "python3"
  },
  "language_info": {
   "codemirror_mode": {
    "name": "ipython",
    "version": 3
   },
   "file_extension": ".py",
   "mimetype": "text/x-python",
   "name": "python",
   "nbconvert_exporter": "python",
   "pygments_lexer": "ipython3",
   "version": "3.6.9"
  }
 },
 "nbformat": 4,
 "nbformat_minor": 4
}
