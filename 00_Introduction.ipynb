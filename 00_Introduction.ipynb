{
 "cells": [
  {
   "cell_type": "markdown",
   "metadata": {},
   "source": [
    "<center><img src=\"images/DLI Header.png\" alt=\"Header\" width=\"400\"></center>"
   ]
  },
  {
   "cell_type": "markdown",
   "metadata": {},
   "source": [
    "# Getting Started with DeepStream for Video Analytics on Jetson Nano\n",
    "The DeepStream SDK offers a complete set of sample reference applications and pre-trained neural networks to jump-start development. In this course, you'll leverage these samples to build your own DeepStream applications to analyze and annotate video streams.\n",
    "\n",
    "<img src=\"images/embedded-web-deepstream-image-option04_FIXED.png\" width=800>\n",
    "\n",
    "To accomplish this goal, six exercise notebooks are provided for you to work through. The notebooks are organized as a progressive exploration of some of the more common DeepStream video analytic use cases.\n",
    "\n",
    "# Table of Contents\n",
    "1. [Object Detection Application](01_ObjDetect.ipynb)<br>\n",
    "You'll learn how to:\n",
    "   - Build a basic DeepStream pipeline\n",
    "   - Configure an object detection model\n",
    "   - Modify metadata to perform analysis\n",
    "2. [Multiple Networks Application](02_MultipleNetworks.ipynb)<br>\n",
    "You'll learn how to:\n",
    "   - Build a pipeline with multiple networks in series\n",
    "   - Add a secondary inference plugin to a pipeline\n",
    "   - Configure multiple networks and tracking in a pipeline  \n",
    "3. [Multistream Application](03_MultiStream.ipynb)<br>\n",
    "You'll learn how to:\n",
    "   - Build a pipeline with multiple input streams in parallel\n",
    "   - Configure multiple input streams with different formats\n",
    "4. [Video File Output](04_VideoFileOutput.ipynb)<br>\n",
    "You'll learn how to:\n",
    "   - Build a pipeline that outputs to a file\n",
    "   - Create an annotated video file\n",
    "5. [Using Different Neural Networks (Optional)](05_DiffNetworks.ipynb)<br>\n",
    "You'll learn how to:\n",
    "   - Build and run a YOLO application\n",
    "   - Access info on adding Faster-RCNN and SSD networks to DeepStream\n",
    "6. [Live Stream (Optional)](06_DSWebcam.ipynb)<br>\n",
    "You'll learn how to:\n",
    "   - Build a pipeline with webcam input\n",
    "   - Run YOLO with a webcam\n"
   ]
  },
  {
   "cell_type": "markdown",
   "metadata": {},
   "source": [
    "<center><img src=\"images/DLI Header.png\" alt=\"Header\" width=\"400\"></center>"
   ]
  }
 ],
 "metadata": {
  "kernelspec": {
   "display_name": "Python 3",
   "language": "python",
   "name": "python3"
  },
  "language_info": {
   "codemirror_mode": {
    "name": "ipython",
    "version": 3
   },
   "file_extension": ".py",
   "mimetype": "text/x-python",
   "name": "python",
   "nbconvert_exporter": "python",
   "pygments_lexer": "ipython3",
   "version": "3.6.9"
  }
 },
 "nbformat": 4,
 "nbformat_minor": 4
}
