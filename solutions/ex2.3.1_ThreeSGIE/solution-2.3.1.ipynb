{
 "cells": [
  {
   "cell_type": "markdown",
   "metadata": {},
   "source": [
    "## 2.3.1 Exercise: Three secondary networks\n",
    "Create a new app based on `deepstream-test2-rtsp-out-1SGIE` that classifies colors, makes, and vehicle types."
   ]
  },
  {
   "cell_type": "code",
   "execution_count": null,
   "metadata": {},
   "outputs": [],
   "source": [
    "# TODO\n",
    "# Create a new app located at /home/dlinano/deepstream_sdk_v4.0.2_jetson/sources/apps/my_apps/dst2-three-sgie \n",
    "#      based on deepstream-test2-rtsp-out-1SGIE\n",
    "%cd /home/dlinano/deepstream_sdk_v4.0.2_jetson/sources/apps\n",
    "!mkdir -p my_apps/dst2-three-sgie\n",
    "!cp -rfv dli_apps/deepstream-test2-rtsp_out-1SGIE/* my_apps/dst2-three-sgie"
   ]
  },
  {
   "cell_type": "code",
   "execution_count": null,
   "metadata": {},
   "outputs": [],
   "source": [
    "# TODO\n",
    "# Create a new configuration files for SGIOE2 and SGIE3\n",
    "#      based on the one already existing for SGIE1.\n",
    "%cd /home/dlinano/deepstream_sdk_v4.0.2_jetson/sources/apps/my_apps/dst2-three-sgie\n",
    "!cp dstest2_sgie1_config.txt dstest2_sgie2_config.txt\n",
    "!cp dstest2_sgie1_config.txt dstest2_sgie3_config.txt"
   ]
  },
  {
   "cell_type": "markdown",
   "metadata": {},
   "source": [
    "Edit the [C file](../../../deepstream_sdk_v4.0.2_jetson/sources/apps/my_apps/dst2-three-sgie/deepstream_test2_app.c)<br>\n",
    "Edit the [SGIE2 config file](../../../deepstream_sdk_v4.0.2_jetson/sources/apps/my_apps/dst2-three-sgie/dstest2_sgie2_config.txt)<br>\n",
    "Edit the [SGIE3 config file](../../../deepstream_sdk_v4.0.2_jetson/sources/apps/my_apps/dst2-three-sgie/dstest2_sgie3_config.txt)"
   ]
  },
  {
   "cell_type": "code",
   "execution_count": null,
   "metadata": {},
   "outputs": [],
   "source": [
    "# TODO\n",
    "# Build the app\n",
    "%cd /home/dlinano/deepstream_sdk_v4.0.2_jetson/sources/apps/my_apps/dst2-three-sgie\n",
    "!make clean\n",
    "!make"
   ]
  },
  {
   "cell_type": "code",
   "execution_count": null,
   "metadata": {},
   "outputs": [],
   "source": [
    "# TODO\n",
    "# Run the app\n",
    "%cd /home/dlinano/deepstream_sdk_v4.0.2_jetson/sources/apps/my_apps/dst2-three-sgie\n",
    "!./deepstream-test2-app /home/dlinano/deepstream_sdk_v4.0.2_jetson/samples/streams/sample_720p.h264"
   ]
  }
 ],
 "metadata": {
  "kernelspec": {
   "display_name": "Python 3",
   "language": "python",
   "name": "python3"
  },
  "language_info": {
   "codemirror_mode": {
    "name": "ipython",
    "version": 3
   },
   "file_extension": ".py",
   "mimetype": "text/x-python",
   "name": "python",
   "nbconvert_exporter": "python",
   "pygments_lexer": "ipython3",
   "version": "3.6.9"
  }
 },
 "nbformat": 4,
 "nbformat_minor": 4
}
