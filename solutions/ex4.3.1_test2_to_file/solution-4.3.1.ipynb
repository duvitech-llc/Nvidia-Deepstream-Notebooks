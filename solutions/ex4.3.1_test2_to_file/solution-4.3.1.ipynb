{
 "cells": [
  {
   "cell_type": "markdown",
   "metadata": {},
   "source": [
    "<a name=\"04_ex_challenge\"></a>\n",
    "## 4.3.1 Exercise: Modify a reference app\n",
    "Add the following enhancements:\n",
    "* Remove the unnecessary call to the RTSP streamer\n",
    "* Save to a different file type such as `.avi` using the `avimux` element.\n",
    "* Provide the saved filename as a command line argument"
   ]
  },
  {
   "cell_type": "code",
   "execution_count": null,
   "metadata": {},
   "outputs": [],
   "source": [
    "# Create a new app located at /home/dlinano/deepstream_sdk_v4.0.2_jetson/sources/apps/\n",
    "#      my_apps/dst4-test2-filesink\n",
    "#      based on the original reference app deepstream-test2-rtsp_out\n",
    "%cd /home/dlinano/deepstream_sdk_v4.0.2_jetson/sources/apps\n",
    "!mkdir -p my_apps/dst4-test2-filesink\n",
    "!cp -rfv dli_apps/deepstream-test2-rtsp_out/* my_apps/dst4-test2-filesink"
   ]
  },
  {
   "cell_type": "markdown",
   "metadata": {},
   "source": [
    "Modify  [deepstream_test1_app.c](../../../deepstream_sdk_v4.0.2_jetson/sources/apps/my_apps/dst4-test2-filesink/deepstream_test2_app.c) "
   ]
  },
  {
   "cell_type": "code",
   "execution_count": null,
   "metadata": {},
   "outputs": [],
   "source": [
    "# TODO\n",
    "# Add the encoder, parser, mux, and filesink to the C code\n",
    "# Build the app\n",
    "%cd /home/dlinano/deepstream_sdk_v4.0.2_jetson/sources/apps/my_apps/dst4-test2-filesink/\n",
    "!make clean\n",
    "!make"
   ]
  },
  {
   "cell_type": "code",
   "execution_count": null,
   "metadata": {},
   "outputs": [],
   "source": [
    "# TODO\n",
    "# Run the app\n",
    "%cd /home/dlinano/deepstream_sdk_v4.0.2_jetson/sources/apps/my_apps/dst4-test2-filesink/\n",
    "!./deepstream-test2-app \\\n",
    "/home/dlinano/deepstream_sdk_v4.0.2_jetson/samples/streams/sample_720p.h264 \\\n",
    "/home/dlinano/my_test2_out.avi"
   ]
  }
 ],
 "metadata": {
  "kernelspec": {
   "display_name": "Python 3",
   "language": "python",
   "name": "python3"
  },
  "language_info": {
   "codemirror_mode": {
    "name": "ipython",
    "version": 3
   },
   "file_extension": ".py",
   "mimetype": "text/x-python",
   "name": "python",
   "nbconvert_exporter": "python",
   "pygments_lexer": "ipython3",
   "version": "3.6.9"
  }
 },
 "nbformat": 4,
 "nbformat_minor": 4
}
